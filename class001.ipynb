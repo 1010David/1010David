{
  "nbformat": 4,
  "nbformat_minor": 0,
  "metadata": {
    "colab": {
      "provenance": [],
      "authorship_tag": "ABX9TyM0lRvXj6FdfGARa6viX0wT",
      "include_colab_link": true
    },
    "kernelspec": {
      "name": "python3",
      "display_name": "Python 3"
    },
    "language_info": {
      "name": "python"
    }
  },
  "cells": [
    {
      "cell_type": "markdown",
      "metadata": {
        "id": "view-in-github",
        "colab_type": "text"
      },
      "source": [
        "<a href=\"https://colab.research.google.com/github/1010David/1010David/blob/main/class001.ipynb\" target=\"_parent\"><img src=\"https://colab.research.google.com/assets/colab-badge.svg\" alt=\"Open In Colab\"/></a>"
      ]
    },
    {
      "cell_type": "code",
      "execution_count": null,
      "metadata": {
        "colab": {
          "base_uri": "https://localhost:8080/"
        },
        "id": "9LcIHz2ZDz_m",
        "outputId": "bbccb3b9-53ef-4970-989c-18060e29bd07"
      },
      "outputs": [
        {
          "output_type": "stream",
          "name": "stdout",
          "text": [
            "Hola mundo\n"
          ]
        }
      ],
      "source": [
        "print(\"Hola mundo\")"
      ]
    },
    {
      "cell_type": "markdown",
      "source": [
        "hola curso G 10 python"
      ],
      "metadata": {
        "id": "rczHuNO6HwSj"
      }
    },
    {
      "cell_type": "code",
      "source": [
        "#mi mensaje sera hola muchachos\n",
        "\n",
        "print(\"hola muchahcos\") # hola\n"
      ],
      "metadata": {
        "colab": {
          "base_uri": "https://localhost:8080/"
        },
        "id": "b4uf26wQH7La",
        "outputId": "e4414a81-04ee-4a01-af11-919b2c13a658"
      },
      "execution_count": null,
      "outputs": [
        {
          "output_type": "stream",
          "name": "stdout",
          "text": [
            "hola muchahcos\n"
          ]
        }
      ]
    },
    {
      "cell_type": "code",
      "source": [
        "print(\"Hola MINTIC\")"
      ],
      "metadata": {
        "colab": {
          "base_uri": "https://localhost:8080/"
        },
        "id": "NEfEJBqhILIF",
        "outputId": "0112f41a-41b4-4d5f-fd50-35708b589243"
      },
      "execution_count": null,
      "outputs": [
        {
          "output_type": "stream",
          "name": "stdout",
          "text": [
            "Hola MINTIC\n"
          ]
        }
      ]
    },
    {
      "cell_type": "code",
      "source": [
        "if 5>2:\n",
        "  print(\"5 es mayor que 2\")"
      ],
      "metadata": {
        "colab": {
          "base_uri": "https://localhost:8080/"
        },
        "id": "SWPiPtrAKHiV",
        "outputId": "3ee1cb5d-190c-49fc-fca3-0bf5cde00367"
      },
      "execution_count": null,
      "outputs": [
        {
          "output_type": "stream",
          "name": "stdout",
          "text": [
            "5 es mayor que 2\n"
          ]
        }
      ]
    },
    {
      "cell_type": "code",
      "source": [
        "x,y,z=\"Azul\",\"rojo\",\"verde\"\n",
        "print(x)\n",
        "print(y)\n",
        "print(z)"
      ],
      "metadata": {
        "colab": {
          "base_uri": "https://localhost:8080/"
        },
        "id": "mfum_rHwKZbb",
        "outputId": "e28c49f0-f8f3-4f88-def7-90df87748924"
      },
      "execution_count": null,
      "outputs": [
        {
          "output_type": "stream",
          "name": "stdout",
          "text": [
            "Azul\n",
            "rojo\n",
            "verde\n"
          ]
        }
      ]
    },
    {
      "cell_type": "code",
      "source": [
        "x=\"Python es un lenguaje\"\n",
        "print(x)"
      ],
      "metadata": {
        "colab": {
          "base_uri": "https://localhost:8080/"
        },
        "id": "OojcCemaLtGS",
        "outputId": "3b91b751-d061-4837-90ed-7b89c8e8e1ee"
      },
      "execution_count": null,
      "outputs": [
        {
          "output_type": "stream",
          "name": "stdout",
          "text": [
            "Python es un lenguaje\n"
          ]
        }
      ]
    },
    {
      "cell_type": "code",
      "source": [
        "x=(\"Python\")\n",
        "y=(\"es un\")\n",
        "z=(\"lenguaje\")\n",
        "print(x,y,z)"
      ],
      "metadata": {
        "colab": {
          "base_uri": "https://localhost:8080/"
        },
        "id": "ukGZc2v4MRF1",
        "outputId": "5e5fcc71-c1bd-4a61-b5dc-bd94398cc9f7"
      },
      "execution_count": null,
      "outputs": [
        {
          "output_type": "stream",
          "name": "stdout",
          "text": [
            "Python es un lenguaje\n"
          ]
        }
      ]
    },
    {
      "cell_type": "code",
      "source": [
        "x=(\"Python \")\n",
        "y=(\"es un \" )\n",
        "z=(\"lenguaje\")\n",
        "print(x+y+z)"
      ],
      "metadata": {
        "colab": {
          "base_uri": "https://localhost:8080/"
        },
        "id": "inlldck0MvJU",
        "outputId": "ddb22c71-ab2d-45fb-e997-9499c987d965"
      },
      "execution_count": null,
      "outputs": [
        {
          "output_type": "stream",
          "name": "stdout",
          "text": [
            "Python es un lenguaje\n"
          ]
        }
      ]
    },
    {
      "cell_type": "markdown",
      "source": [
        "Tipos de datos en Python\n",
        "Tipos de texto  String\n",
        "Tipos numéricos  int, float, complex\n",
        "Tipo de secuencia  list, tuple, range\n",
        "Tipos de mapeo  dict\n",
        "Tipo de conjuntos   set, frozenset\n",
        "Tipo booleano   bool\n",
        "Tipo binario    Bytes, bitearray, memoryview"
      ],
      "metadata": {
        "id": "MlrqaCSmODeJ"
      }
    },
    {
      "cell_type": "code",
      "source": [
        "x=1\n",
        "y=1.2\n",
        "c='hola'\n",
        "d=True\n",
        "e=[1,2,3,4,5]\n",
        "print(x, type(x))\n",
        "print(y, type(y))\n",
        "print(c, type(c))\n",
        "print(d, type(d))\n",
        "print(e, type(e))"
      ],
      "metadata": {
        "colab": {
          "base_uri": "https://localhost:8080/"
        },
        "id": "lD_MCEDVNBp0",
        "outputId": "d9c85fc6-c709-40a8-81c6-96afc00f9aae"
      },
      "execution_count": null,
      "outputs": [
        {
          "output_type": "stream",
          "name": "stdout",
          "text": [
            "1 <class 'int'>\n",
            "1.2 <class 'float'>\n",
            "hola <class 'str'>\n",
            "True <class 'bool'>\n",
            "[1, 2, 3, 4, 5] <class 'list'>\n"
          ]
        }
      ]
    },
    {
      "cell_type": "code",
      "source": [
        "x=1\n",
        "y=2.8\n",
        "z=2+1J\n",
        "print(x, type(x))\n",
        "print(y, type(y))\n",
        "print(z, type(z))"
      ],
      "metadata": {
        "colab": {
          "base_uri": "https://localhost:8080/"
        },
        "id": "fGDyQd3iiRXp",
        "outputId": "8032db0a-5574-4ab9-af2c-8d6f221ad1b7"
      },
      "execution_count": null,
      "outputs": [
        {
          "output_type": "stream",
          "name": "stdout",
          "text": [
            "1 <class 'int'>\n",
            "2.8 <class 'float'>\n",
            "(2+1j) <class 'complex'>\n"
          ]
        }
      ]
    },
    {
      "cell_type": "code",
      "source": [
        "x=35e3\n",
        "y=12E4\n",
        "z=-87.7e100\n",
        "\n",
        "print(x, type(x))\n",
        "print(y, type(y))\n",
        "print(z, type(z))"
      ],
      "metadata": {
        "colab": {
          "base_uri": "https://localhost:8080/"
        },
        "id": "tMexG_4cjPZF",
        "outputId": "ce5c19c3-02cb-4dda-fd14-10b5d21d3220"
      },
      "execution_count": null,
      "outputs": [
        {
          "output_type": "stream",
          "name": "stdout",
          "text": [
            "35000.0 <class 'float'>\n",
            "120000.0 <class 'float'>\n",
            "-8.77e+101 <class 'float'>\n"
          ]
        }
      ]
    },
    {
      "cell_type": "code",
      "source": [
        "x=3+5j\n",
        "y=5j\n",
        "z=-5j\n",
        "print(x, type(x))\n",
        "print(y, type(y))\n",
        "print(z, type(z))"
      ],
      "metadata": {
        "colab": {
          "base_uri": "https://localhost:8080/"
        },
        "id": "LQZS_JeWjy1n",
        "outputId": "3db51be2-dd92-4de8-a472-3e7027e596eb"
      },
      "execution_count": null,
      "outputs": [
        {
          "output_type": "stream",
          "name": "stdout",
          "text": [
            "(3+5j) <class 'complex'>\n",
            "5j <class 'complex'>\n",
            "(-0-5j) <class 'complex'>\n"
          ]
        }
      ]
    },
    {
      "cell_type": "code",
      "source": [
        "x=1\n",
        "y=2.8\n",
        "z=1j\n",
        "\n",
        "a=float(x)\n",
        "b=int(y)\n",
        "c=complex(x)\n",
        "\n",
        "print(x, type(x))\n",
        "print(a, type(a))\n",
        "print(y, type(y))\n",
        "print(z, type(z))\n",
        "print(b, type(b))\n",
        "print(c, type(c))\n"
      ],
      "metadata": {
        "colab": {
          "base_uri": "https://localhost:8080/"
        },
        "id": "_V4vbkb5k0fm",
        "outputId": "058e7dad-bdb1-4eec-e8e5-78385b0572d0"
      },
      "execution_count": null,
      "outputs": [
        {
          "output_type": "stream",
          "name": "stdout",
          "text": [
            "1 <class 'int'>\n",
            "1.0 <class 'float'>\n",
            "2.8 <class 'float'>\n",
            "1j <class 'complex'>\n",
            "2 <class 'int'>\n",
            "(1+0j) <class 'complex'>\n"
          ]
        }
      ]
    },
    {
      "cell_type": "code",
      "source": [
        "print(10>9)\n",
        "print(10==9)\n",
        "print(10<9)"
      ],
      "metadata": {
        "colab": {
          "base_uri": "https://localhost:8080/"
        },
        "id": "b26Jbw-lmQRz",
        "outputId": "0ea2a359-b4cb-44aa-fa28-4549a4731582"
      },
      "execution_count": null,
      "outputs": [
        {
          "output_type": "stream",
          "name": "stdout",
          "text": [
            "True\n",
            "False\n",
            "False\n"
          ]
        }
      ]
    },
    {
      "cell_type": "code",
      "source": [
        "print(bool(\"Holaa\"))\n",
        "print(bool(15))"
      ],
      "metadata": {
        "colab": {
          "base_uri": "https://localhost:8080/"
        },
        "id": "MyV4be5DoGRZ",
        "outputId": "f7e54956-b19d-4a38-c556-adb2fd2608ea"
      },
      "execution_count": null,
      "outputs": [
        {
          "output_type": "stream",
          "name": "stdout",
          "text": [
            "True\n",
            "True\n"
          ]
        }
      ]
    },
    {
      "cell_type": "code",
      "source": [
        "x=\"Hello\"\n",
        "y=15\n",
        "\n",
        "print(bool(x))\n",
        "print(bool(y))"
      ],
      "metadata": {
        "colab": {
          "base_uri": "https://localhost:8080/"
        },
        "id": "NXXH2hCUobUh",
        "outputId": "da5baff7-1e27-41a4-e5bf-d0445d1021f4"
      },
      "execution_count": null,
      "outputs": [
        {
          "output_type": "stream",
          "name": "stdout",
          "text": [
            "True\n",
            "True\n"
          ]
        }
      ]
    },
    {
      "cell_type": "code",
      "source": [
        "x=64\n",
        "print(x, \"en ascci es\",chr(x))"
      ],
      "metadata": {
        "colab": {
          "base_uri": "https://localhost:8080/"
        },
        "id": "3_qpB9Dgoqeh",
        "outputId": "53d633a8-2da9-45ae-d8a3-bad678d8b78b"
      },
      "execution_count": null,
      "outputs": [
        {
          "output_type": "stream",
          "name": "stdout",
          "text": [
            "64 en ascci es @\n"
          ]
        }
      ]
    },
    {
      "cell_type": "code",
      "source": [
        "x=True    #operadores de asignación\n",
        "y=True\n",
        "z=bool(x*y)\n",
        "w=bool(x+y)\n",
        "if x==True:\n",
        "  c=False\n",
        "if x==False:\n",
        "  c=True\n",
        "  \n",
        "print(x,\"AND\",y,\"=\",z)\n",
        "print(x,\"OR\",y,\"=\",w)\n",
        "print(x,\"NOT =\",c)"
      ],
      "metadata": {
        "colab": {
          "base_uri": "https://localhost:8080/"
        },
        "id": "33C_1JxQpeQQ",
        "outputId": "63fdded7-4d36-47b0-fc65-e6859e86d513"
      },
      "execution_count": null,
      "outputs": [
        {
          "output_type": "stream",
          "name": "stdout",
          "text": [
            "True AND True = True\n",
            "True OR True = True\n",
            "True NOT = False\n"
          ]
        }
      ]
    },
    {
      "cell_type": "code",
      "source": [
        "x=2+3j\n",
        "y=5-10j\n",
        "z=x+y\n",
        "print(z)"
      ],
      "metadata": {
        "colab": {
          "base_uri": "https://localhost:8080/"
        },
        "id": "c8ex00cAsV4Z",
        "outputId": "f6633c2d-9bd5-4492-c987-57487bc13862"
      },
      "execution_count": null,
      "outputs": [
        {
          "output_type": "stream",
          "name": "stdout",
          "text": [
            "(7-7j)\n"
          ]
        }
      ]
    },
    {
      "cell_type": "code",
      "source": [],
      "metadata": {
        "id": "03w1XtvYuxgT"
      },
      "execution_count": null,
      "outputs": []
    }
  ]
}